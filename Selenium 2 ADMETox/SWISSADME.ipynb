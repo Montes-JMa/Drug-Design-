{
 "cells": [
  {
   "cell_type": "code",
   "execution_count": null,
   "id": "382788e5",
   "metadata": {
    "scrolled": false
   },
   "outputs": [],
   "source": [
    "import os\n",
    "import selenium\n",
    "from selenium import webdriver\n",
    "from selenium.webdriver.common.by import By\n",
    "from selenium.webdriver.support.ui import WebDriverWait\n",
    "from selenium.webdriver.support import expected_conditions as EC\n",
    "\n",
    "import time\n",
    "import pandas as pd\n",
    "import numpy as np \n",
    "import shutil\n",
    "\n",
    "# Listemos cada uno de los pdb que vamos a analizar\n",
    "submission_dir = 'swissadme'\n",
    "dir_list = np.sort(list(os.listdir(submission_dir)))\n",
    "origen = \"/home/chema-chiles/Downloads/\""
   ]
  },
  {
   "cell_type": "code",
   "execution_count": null,
   "id": "3ecdb49f",
   "metadata": {},
   "outputs": [],
   "source": [
    "for q in dir_list:\n",
    "    for out in np.sort(list(os.listdir(submission_dir+\"/\"+q))):\n",
    "        driver = webdriver.Chrome()\n",
    "        driver.get('http://www.swissadme.ch/index.php')\n",
    "        \n",
    "        wait = WebDriverWait(driver, 1900)  # Ajusta el tiempo de espera según tus necesidades\n",
    "\n",
    "        # Insertamos los smiles\n",
    "        print(submission_dir+\"/\"+q+\"/\"+out)\n",
    "        temp_box = driver.find_element(\"name\", 'smiles')\n",
    "        archivo = open(submission_dir+\"/\"+q+\"/\"+out, 'r')  \n",
    "        for linea in archivo:\n",
    "            temp_box.send_keys(str(linea))    \n",
    "        archivo.close()\n",
    "\n",
    "        # Mandar la tarea\n",
    "        run  =  wait.until(EC.visibility_of_element_located((By.XPATH, \"/html/body/div/div[3]/div[2]/div/div[4]/form/div/input[3]\")))\n",
    "        run.click()\n",
    "        \n",
    "        # Esperar a que el elemento de descarga sea visible antes de hacer clic\n",
    "        download_button = wait.until(EC.visibility_of_element_located((By.XPATH, \"/html/body/div/div[3]/div[2]/div/div[7]/a[1]/img\")))\n",
    "        download_button.click()\n",
    "\n",
    "        time.sleep(20)  # Puedes ajustar el tiempo de espera aquí\n",
    "\n",
    "        driver.close()\n",
    "\n",
    "    destino = f\"/home/chema-chiles/Downloads/ligandos_analisis/chromedriver_linux64/{submission_dir}/{q}/\"\n",
    "    archivos_csv = [archivo for archivo in os.listdir(origen) if archivo.endswith(\".csv\")]\n",
    "    # Mover archivos CSV a la carpeta de destino\n",
    "    for archivo in archivos_csv:\n",
    "        ruta_origen = os.path.join(origen, archivo)\n",
    "        ruta_destino = os.path.join(destino, archivo)\n",
    "        shutil.move(ruta_origen, ruta_destino)\n"
   ]
  },
  {
   "cell_type": "code",
   "execution_count": null,
   "id": "388332f6",
   "metadata": {},
   "outputs": [],
   "source": []
  }
 ],
 "metadata": {
  "kernelspec": {
   "display_name": "Python 3 (ipykernel)",
   "language": "python",
   "name": "python3"
  },
  "language_info": {
   "codemirror_mode": {
    "name": "ipython",
    "version": 3
   },
   "file_extension": ".py",
   "mimetype": "text/x-python",
   "name": "python",
   "nbconvert_exporter": "python",
   "pygments_lexer": "ipython3",
   "version": "3.10.12"
  }
 },
 "nbformat": 4,
 "nbformat_minor": 5
}
